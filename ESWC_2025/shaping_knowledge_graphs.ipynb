{
  "nbformat": 4,
  "nbformat_minor": 0,
  "metadata": {
    "colab": {
      "provenance": [],
      "name": "shaping_knowledge_graphs.ipynb"
    },
    "kernelspec": {
      "name": "python3",
      "display_name": "Python 3"
    },
    "language_info": {
      "name": "python"
    }
  },
  "cells": [
    {
      "cell_type": "markdown",
      "source": [
        "# RDF Data Validation Workshop"
      ],
      "metadata": {
        "id": "MWDvi7GJZulR"
      }
    },
    {
      "cell_type": "markdown",
      "source": [
        "Install dependencies"
      ],
      "metadata": {
        "id": "GheHokFB5VPO"
      }
    },
    {
      "cell_type": "code",
      "execution_count": 1,
      "metadata": {
        "colab": {
          "base_uri": "https://localhost:8080/"
        },
        "id": "0fRGQHRnB50E",
        "outputId": "8a1cc962-cf6c-46d2-ba13-97a2f5e6ebf6"
      },
      "outputs": [
        {
          "output_type": "stream",
          "name": "stdout",
          "text": [
            "Collecting rdflib\n",
            "  Downloading rdflib-7.1.4-py3-none-any.whl.metadata (11 kB)\n",
            "Requirement already satisfied: pyparsing<4,>=2.1.0 in /usr/local/lib/python3.11/dist-packages (from rdflib) (3.2.3)\n",
            "Downloading rdflib-7.1.4-py3-none-any.whl (565 kB)\n",
            "\u001b[?25l   \u001b[90m━━━━━━━━━━━━━━━━━━━━━━━━━━━━━━━━━━━━━━━━\u001b[0m \u001b[32m0.0/565.1 kB\u001b[0m \u001b[31m?\u001b[0m eta \u001b[36m-:--:--\u001b[0m\r\u001b[2K   \u001b[90m━━━━━━━━━━━━━━━━━━━━━━━━━━━━━━━━━━━━━━━━\u001b[0m \u001b[32m565.1/565.1 kB\u001b[0m \u001b[31m17.9 MB/s\u001b[0m eta \u001b[36m0:00:00\u001b[0m\n",
            "\u001b[?25hInstalling collected packages: rdflib\n",
            "Successfully installed rdflib-7.1.4\n"
          ]
        }
      ],
      "source": [
        "!pip install rdflib"
      ]
    },
    {
      "cell_type": "markdown",
      "source": [
        "We add the [rdflib](https://rdflib.readthedocs.io/) library to handle RDF data"
      ],
      "metadata": {
        "id": "zldzEGeeChTK"
      }
    },
    {
      "cell_type": "code",
      "source": [
        "from rdflib import Graph"
      ],
      "metadata": {
        "id": "HH6ynQnyCmIM"
      },
      "execution_count": 2,
      "outputs": []
    },
    {
      "cell_type": "markdown",
      "source": [],
      "metadata": {
        "id": "_a-YOeaK5f1Q"
      }
    },
    {
      "cell_type": "code",
      "source": [
        "g = Graph()"
      ],
      "metadata": {
        "id": "I-N-TIFIDLCB"
      },
      "execution_count": 3,
      "outputs": []
    },
    {
      "cell_type": "code",
      "source": [
        "g.parse(\"https://raw.githubusercontent.com/validatingrdf/Tutorial/refs/heads/master/ISWC_2024/example.ttl\", format=\"turtle\")"
      ],
      "metadata": {
        "colab": {
          "base_uri": "https://localhost:8080/"
        },
        "id": "5uJPtI2vDNm5",
        "outputId": "e4528854-81df-4cf1-b769-fe0e230899db"
      },
      "execution_count": 4,
      "outputs": [
        {
          "output_type": "execute_result",
          "data": {
            "text/plain": [
              "<Graph identifier=Nbe0c1ee940d340968c991309058ae9c2 (<class 'rdflib.graph.Graph'>)>"
            ]
          },
          "metadata": {},
          "execution_count": 4
        }
      ]
    },
    {
      "cell_type": "code",
      "source": [
        "for counter, t in enumerate(g):\n",
        "  print(f\"Triple {counter}: subject = {t[0]}, predicate = {t[1]}, object = {t[2]}\")"
      ],
      "metadata": {
        "colab": {
          "base_uri": "https://localhost:8080/"
        },
        "id": "cnxPNymODh_z",
        "outputId": "bcdc64d5-d7b8-4623-89a7-20d99b0ddcf8"
      },
      "execution_count": 5,
      "outputs": [
        {
          "output_type": "stream",
          "name": "stdout",
          "text": [
            "Triple 0: subject = http://example.org/london, predicate = http://www.w3.org/1999/02/22-rdf-syntax-ns#type, object = http://example.org/city\n",
            "Triple 1: subject = http://example.org/timbl, predicate = http://www.w3.org/1999/02/22-rdf-syntax-ns#type, object = http://example.org/Human\n",
            "Triple 2: subject = http://example.org/timbl, predicate = http://example.org/employer, object = http://example.org/CERN\n",
            "Triple 3: subject = http://example.org/timbl, predicate = http://example.org/knows, object = n86471a55d5a04c4d8ab4969687dcd19db1\n",
            "Triple 4: subject = http://example.org/timbl, predicate = http://example.org/birthDate, object = 1955-06-08\n",
            "Triple 5: subject = n86471a55d5a04c4d8ab4969687dcd19db1, predicate = http://example.org/birthPlace, object = http://example.org/Spain\n",
            "Triple 6: subject = http://example.org/london, predicate = http://example.org/country, object = http://example.org/UK\n",
            "Triple 7: subject = http://example.org/CERN, predicate = http://www.w3.org/1999/02/22-rdf-syntax-ns#type, object = http://example.org/Organization\n",
            "Triple 8: subject = http://example.org/timbl, predicate = http://example.org/birthPlace, object = http://example.org/london\n",
            "Triple 9: subject = http://example.org/timbl, predicate = http://www.w3.org/2000/01/rdf-schema#label, object = Tim Berners-Lee\n",
            "Triple 10: subject = http://example.org/london, predicate = http://www.w3.org/1999/02/22-rdf-syntax-ns#type, object = http://example.org/metropolis\n"
          ]
        }
      ]
    },
    {
      "cell_type": "code",
      "source": [
        "print(g.serialize(format=\"nt\"))"
      ],
      "metadata": {
        "colab": {
          "base_uri": "https://localhost:8080/"
        },
        "id": "Gcd8jDZGc30Q",
        "outputId": "a00d7e26-a9bf-4a9e-f060-a4d14aa7f667"
      },
      "execution_count": 6,
      "outputs": [
        {
          "output_type": "stream",
          "name": "stdout",
          "text": [
            "<http://example.org/london> <http://www.w3.org/1999/02/22-rdf-syntax-ns#type> <http://example.org/city> .\n",
            "<http://example.org/timbl> <http://www.w3.org/1999/02/22-rdf-syntax-ns#type> <http://example.org/Human> .\n",
            "<http://example.org/timbl> <http://example.org/employer> <http://example.org/CERN> .\n",
            "<http://example.org/timbl> <http://example.org/knows> _:n86471a55d5a04c4d8ab4969687dcd19db1 .\n",
            "<http://example.org/timbl> <http://example.org/birthDate> \"1955-06-08\"^^<http://www.w3.org/2001/XMLSchema#date> .\n",
            "_:n86471a55d5a04c4d8ab4969687dcd19db1 <http://example.org/birthPlace> <http://example.org/Spain> .\n",
            "<http://example.org/london> <http://example.org/country> <http://example.org/UK> .\n",
            "<http://example.org/CERN> <http://www.w3.org/1999/02/22-rdf-syntax-ns#type> <http://example.org/Organization> .\n",
            "<http://example.org/timbl> <http://example.org/birthPlace> <http://example.org/london> .\n",
            "<http://example.org/timbl> <http://www.w3.org/2000/01/rdf-schema#label> \"Tim Berners-Lee\" .\n",
            "<http://example.org/london> <http://www.w3.org/1999/02/22-rdf-syntax-ns#type> <http://example.org/metropolis> .\n",
            "\n"
          ]
        }
      ]
    },
    {
      "cell_type": "code",
      "source": [
        "print(g.serialize(format=\"xml\"))"
      ],
      "metadata": {
        "colab": {
          "base_uri": "https://localhost:8080/"
        },
        "id": "nAw4nv9EhzRg",
        "outputId": "72c39339-3f52-4fa1-fc3c-ff36cf671c61"
      },
      "execution_count": 7,
      "outputs": [
        {
          "output_type": "stream",
          "name": "stdout",
          "text": [
            "<?xml version=\"1.0\" encoding=\"utf-8\"?>\n",
            "<rdf:RDF\n",
            "   xmlns=\"http://example.org/\"\n",
            "   xmlns:rdf=\"http://www.w3.org/1999/02/22-rdf-syntax-ns#\"\n",
            "   xmlns:rdfs=\"http://www.w3.org/2000/01/rdf-schema#\"\n",
            ">\n",
            "  <rdf:Description rdf:about=\"http://example.org/london\">\n",
            "    <rdf:type rdf:resource=\"http://example.org/city\"/>\n",
            "    <rdf:type rdf:resource=\"http://example.org/metropolis\"/>\n",
            "    <country rdf:resource=\"http://example.org/UK\"/>\n",
            "  </rdf:Description>\n",
            "  <rdf:Description rdf:about=\"http://example.org/timbl\">\n",
            "    <rdf:type rdf:resource=\"http://example.org/Human\"/>\n",
            "    <birthPlace rdf:resource=\"http://example.org/london\"/>\n",
            "    <rdfs:label>Tim Berners-Lee</rdfs:label>\n",
            "    <birthDate rdf:datatype=\"http://www.w3.org/2001/XMLSchema#date\">1955-06-08</birthDate>\n",
            "    <employer rdf:resource=\"http://example.org/CERN\"/>\n",
            "    <knows rdf:nodeID=\"n86471a55d5a04c4d8ab4969687dcd19db1\"/>\n",
            "  </rdf:Description>\n",
            "  <rdf:Description rdf:nodeID=\"n86471a55d5a04c4d8ab4969687dcd19db1\">\n",
            "    <birthPlace rdf:resource=\"http://example.org/Spain\"/>\n",
            "  </rdf:Description>\n",
            "  <rdf:Description rdf:about=\"http://example.org/CERN\">\n",
            "    <rdf:type rdf:resource=\"http://example.org/Organization\"/>\n",
            "  </rdf:Description>\n",
            "</rdf:RDF>\n",
            "\n"
          ]
        }
      ]
    },
    {
      "cell_type": "code",
      "source": [
        "print(g.serialize(format=\"json-ld\"))"
      ],
      "metadata": {
        "colab": {
          "base_uri": "https://localhost:8080/"
        },
        "id": "VOA6jtCoh_gI",
        "outputId": "9f2a27a8-5ec6-4d18-e3fa-a45b7d433304"
      },
      "execution_count": 8,
      "outputs": [
        {
          "output_type": "stream",
          "name": "stdout",
          "text": [
            "[\n",
            "  {\n",
            "    \"@id\": \"http://example.org/timbl\",\n",
            "    \"@type\": [\n",
            "      \"http://example.org/Human\"\n",
            "    ],\n",
            "    \"http://example.org/birthDate\": [\n",
            "      {\n",
            "        \"@type\": \"http://www.w3.org/2001/XMLSchema#date\",\n",
            "        \"@value\": \"1955-06-08\"\n",
            "      }\n",
            "    ],\n",
            "    \"http://example.org/birthPlace\": [\n",
            "      {\n",
            "        \"@id\": \"http://example.org/london\"\n",
            "      }\n",
            "    ],\n",
            "    \"http://example.org/employer\": [\n",
            "      {\n",
            "        \"@id\": \"http://example.org/CERN\"\n",
            "      }\n",
            "    ],\n",
            "    \"http://example.org/knows\": [\n",
            "      {\n",
            "        \"@id\": \"_:n86471a55d5a04c4d8ab4969687dcd19db1\"\n",
            "      }\n",
            "    ],\n",
            "    \"http://www.w3.org/2000/01/rdf-schema#label\": [\n",
            "      {\n",
            "        \"@value\": \"Tim Berners-Lee\"\n",
            "      }\n",
            "    ]\n",
            "  },\n",
            "  {\n",
            "    \"@id\": \"_:n86471a55d5a04c4d8ab4969687dcd19db1\",\n",
            "    \"http://example.org/birthPlace\": [\n",
            "      {\n",
            "        \"@id\": \"http://example.org/Spain\"\n",
            "      }\n",
            "    ]\n",
            "  },\n",
            "  {\n",
            "    \"@id\": \"http://example.org/CERN\",\n",
            "    \"@type\": [\n",
            "      \"http://example.org/Organization\"\n",
            "    ]\n",
            "  },\n",
            "  {\n",
            "    \"@id\": \"http://example.org/london\",\n",
            "    \"@type\": [\n",
            "      \"http://example.org/city\",\n",
            "      \"http://example.org/metropolis\"\n",
            "    ],\n",
            "    \"http://example.org/country\": [\n",
            "      {\n",
            "        \"@id\": \"http://example.org/UK\"\n",
            "      }\n",
            "    ]\n",
            "  }\n",
            "]\n"
          ]
        }
      ]
    },
    {
      "cell_type": "markdown",
      "source": [
        "# SPARQL"
      ],
      "metadata": {
        "id": "eSJfcps2E6Es"
      }
    },
    {
      "cell_type": "markdown",
      "source": [
        "rdflib can also be used to create SPARQL queries"
      ],
      "metadata": {
        "id": "3AwPwOgRJzL0"
      }
    },
    {
      "cell_type": "markdown",
      "source": [
        "Run SPARQL query"
      ],
      "metadata": {
        "id": "ST4IhYqiHJUr"
      }
    },
    {
      "cell_type": "code",
      "source": [
        "query1 = \"\"\"\n",
        "prefix :       <http://example.org/>\n",
        "prefix xsd:    <http://www.w3.org/2001/XMLSchema#>\n",
        "prefix rdf:    <http://www.w3.org/1999/02/22-rdf-syntax-ns#>\n",
        "prefix schema: <http://schema.org/>\n",
        "prefix rdfs:   <http://www.w3.org/2000/01/rdf-schema#>\n",
        "prefix xsd:    <http://www.w3.org/2001/XMLSchema#>\n",
        "\n",
        "select ?person ?date ?country where {\n",
        " ?person :birthDate  ?date .\n",
        " ?person :birthPlace ?p .\n",
        " ?p      :country    ?country\n",
        "}\n",
        "\"\"\"\n",
        "result = g.query(query1)"
      ],
      "metadata": {
        "id": "AotXq-AwHHWd"
      },
      "execution_count": null,
      "outputs": []
    },
    {
      "cell_type": "markdown",
      "source": [
        "Show results"
      ],
      "metadata": {
        "id": "uFveHxftHMWD"
      }
    },
    {
      "cell_type": "code",
      "source": [
        "for row in result:\n",
        "    print(f\"{row.person} {row.country}\")"
      ],
      "metadata": {
        "colab": {
          "base_uri": "https://localhost:8080/"
        },
        "id": "QYHCQ9SbHNuj",
        "outputId": "d49e3245-f7fc-4f81-f257-f02a3acd7e27"
      },
      "execution_count": null,
      "outputs": [
        {
          "output_type": "stream",
          "name": "stdout",
          "text": [
            "http://example.org/timbl http://example.org/UK\n"
          ]
        }
      ]
    },
    {
      "cell_type": "markdown",
      "source": [
        "# ShEx"
      ],
      "metadata": {
        "id": "q3KV2tEEE0pN"
      }
    },
    {
      "cell_type": "markdown",
      "source": [
        "[ShEx](http://shex.io/) (Shape Expressions) is a language to describe and validate RDF data. [PyShEx](https://github.com/hsolbrig/PyShEx) is a Python library that can be used to do validations and is compatible with rdflib."
      ],
      "metadata": {
        "id": "vsKsC0WnJ5jE"
      }
    },
    {
      "cell_type": "code",
      "source": [
        "!pip install pyshex"
      ],
      "metadata": {
        "colab": {
          "base_uri": "https://localhost:8080/"
        },
        "id": "vsCnyU6BHkVU",
        "outputId": "0f3d31a4-e203-439f-ca93-a01c818ee363"
      },
      "execution_count": null,
      "outputs": [
        {
          "output_type": "stream",
          "name": "stdout",
          "text": [
            "Collecting pyshex\n",
            "  Downloading PyShEx-0.8.1-py3-none-any.whl.metadata (1.0 kB)\n",
            "Collecting cfgraph>=0.2.1 (from pyshex)\n",
            "  Downloading CFGraph-0.2.1.tar.gz (2.6 kB)\n",
            "  Preparing metadata (setup.py) ... \u001b[?25l\u001b[?25hdone\n",
            "Requirement already satisfied: chardet in /usr/local/lib/python3.10/dist-packages (from pyshex) (5.2.0)\n",
            "Collecting pyshexc==0.9.1 (from pyshex)\n",
            "  Downloading PyShExC-0.9.1-py2.py3-none-any.whl.metadata (940 bytes)\n",
            "Collecting rdflib-shim (from pyshex)\n",
            "  Downloading rdflib_shim-1.0.3-py3-none-any.whl.metadata (918 bytes)\n",
            "Requirement already satisfied: requests>=2.22.0 in /usr/local/lib/python3.10/dist-packages (from pyshex) (2.32.3)\n",
            "Collecting shexjsg>=0.8.2 (from pyshex)\n",
            "  Downloading ShExJSG-0.8.2-py2.py3-none-any.whl.metadata (997 bytes)\n",
            "Collecting sparqlslurper>=0.5.1 (from pyshex)\n",
            "  Downloading sparqlslurper-0.5.1-py3-none-any.whl.metadata (430 bytes)\n",
            "Collecting sparqlwrapper>=1.8.5 (from pyshex)\n",
            "  Downloading SPARQLWrapper-2.0.0-py3-none-any.whl.metadata (2.0 kB)\n",
            "Requirement already satisfied: urllib3 in /usr/local/lib/python3.10/dist-packages (from pyshex) (2.2.3)\n",
            "Collecting antlr4-python3-runtime~=4.9.3 (from pyshexc==0.9.1->pyshex)\n",
            "  Downloading antlr4-python3-runtime-4.9.3.tar.gz (117 kB)\n",
            "\u001b[2K     \u001b[90m━━━━━━━━━━━━━━━━━━━━━━━━━━━━━━━━━━━━━━━━\u001b[0m \u001b[32m117.0/117.0 kB\u001b[0m \u001b[31m3.7 MB/s\u001b[0m eta \u001b[36m0:00:00\u001b[0m\n",
            "\u001b[?25h  Preparing metadata (setup.py) ... \u001b[?25l\u001b[?25hdone\n",
            "Collecting jsonasobj>=1.2.1 (from pyshexc==0.9.1->pyshex)\n",
            "  Downloading jsonasobj-1.3.1-py3-none-any.whl.metadata (995 bytes)\n",
            "Collecting pyjsg>=0.11.10 (from pyshexc==0.9.1->pyshex)\n",
            "  Downloading PyJSG-0.11.10-py3-none-any.whl.metadata (978 bytes)\n",
            "Requirement already satisfied: rdflib>=0.4.2 in /usr/local/lib/python3.10/dist-packages (from cfgraph>=0.2.1->pyshex) (7.1.1)\n",
            "Requirement already satisfied: charset-normalizer<4,>=2 in /usr/local/lib/python3.10/dist-packages (from requests>=2.22.0->pyshex) (3.4.0)\n",
            "Requirement already satisfied: idna<4,>=2.5 in /usr/local/lib/python3.10/dist-packages (from requests>=2.22.0->pyshex) (3.10)\n",
            "Requirement already satisfied: certifi>=2017.4.17 in /usr/local/lib/python3.10/dist-packages (from requests>=2.22.0->pyshex) (2024.8.30)\n",
            "Collecting rdflib-jsonld==0.6.1 (from rdflib-shim->pyshex)\n",
            "  Downloading rdflib_jsonld-0.6.1-py2.py3-none-any.whl.metadata (3.4 kB)\n",
            "Requirement already satisfied: isodate<1.0.0,>=0.7.2 in /usr/local/lib/python3.10/dist-packages (from rdflib>=0.4.2->cfgraph>=0.2.1->pyshex) (0.7.2)\n",
            "Requirement already satisfied: pyparsing<4,>=2.1.0 in /usr/local/lib/python3.10/dist-packages (from rdflib>=0.4.2->cfgraph>=0.2.1->pyshex) (3.2.0)\n",
            "Downloading PyShEx-0.8.1-py3-none-any.whl (51 kB)\n",
            "\u001b[2K   \u001b[90m━━━━━━━━━━━━━━━━━━━━━━━━━━━━━━━━━━━━━━━━\u001b[0m \u001b[32m51.9/51.9 kB\u001b[0m \u001b[31m3.1 MB/s\u001b[0m eta \u001b[36m0:00:00\u001b[0m\n",
            "\u001b[?25hDownloading PyShExC-0.9.1-py2.py3-none-any.whl (69 kB)\n",
            "\u001b[2K   \u001b[90m━━━━━━━━━━━━━━━━━━━━━━━━━━━━━━━━━━━━━━━━\u001b[0m \u001b[32m69.8/69.8 kB\u001b[0m \u001b[31m4.5 MB/s\u001b[0m eta \u001b[36m0:00:00\u001b[0m\n",
            "\u001b[?25hDownloading ShExJSG-0.8.2-py2.py3-none-any.whl (14 kB)\n",
            "Downloading sparqlslurper-0.5.1-py3-none-any.whl (6.6 kB)\n",
            "Downloading SPARQLWrapper-2.0.0-py3-none-any.whl (28 kB)\n",
            "Downloading rdflib_shim-1.0.3-py3-none-any.whl (5.2 kB)\n",
            "Downloading rdflib_jsonld-0.6.1-py2.py3-none-any.whl (16 kB)\n",
            "Downloading jsonasobj-1.3.1-py3-none-any.whl (4.4 kB)\n",
            "Downloading PyJSG-0.11.10-py3-none-any.whl (80 kB)\n",
            "\u001b[2K   \u001b[90m━━━━━━━━━━━━━━━━━━━━━━━━━━━━━━━━━━━━━━━━\u001b[0m \u001b[32m80.8/80.8 kB\u001b[0m \u001b[31m5.9 MB/s\u001b[0m eta \u001b[36m0:00:00\u001b[0m\n",
            "\u001b[?25hBuilding wheels for collected packages: cfgraph, antlr4-python3-runtime\n",
            "  Building wheel for cfgraph (setup.py) ... \u001b[?25l\u001b[?25hdone\n",
            "  Created wheel for cfgraph: filename=CFGraph-0.2.1-py3-none-any.whl size=2214 sha256=a20f3015de4a0741596b269e98f59b879e657698f2b70fa427280e9a2c36b9d4\n",
            "  Stored in directory: /root/.cache/pip/wheels/26/bd/ce/f40398ab2be182fe27806de6f27185f2dc207241061f7095df\n",
            "  Building wheel for antlr4-python3-runtime (setup.py) ... \u001b[?25l\u001b[?25hdone\n",
            "  Created wheel for antlr4-python3-runtime: filename=antlr4_python3_runtime-4.9.3-py3-none-any.whl size=144555 sha256=db3239f3e3eb5a798665651d198cfe42286cb18ead4142578939a69db9c77242\n",
            "  Stored in directory: /root/.cache/pip/wheels/12/93/dd/1f6a127edc45659556564c5730f6d4e300888f4bca2d4c5a88\n",
            "Successfully built cfgraph antlr4-python3-runtime\n",
            "Installing collected packages: jsonasobj, antlr4-python3-runtime, pyjsg, sparqlwrapper, shexjsg, rdflib-jsonld, cfgraph, rdflib-shim, sparqlslurper, pyshexc, pyshex\n",
            "Successfully installed antlr4-python3-runtime-4.9.3 cfgraph-0.2.1 jsonasobj-1.3.1 pyjsg-0.11.10 pyshex-0.8.1 pyshexc-0.9.1 rdflib-jsonld-0.6.1 rdflib-shim-1.0.3 shexjsg-0.8.2 sparqlslurper-0.5.1 sparqlwrapper-2.0.0\n"
          ]
        }
      ]
    },
    {
      "cell_type": "code",
      "source": [
        "from pyshex import ShExEvaluator"
      ],
      "metadata": {
        "id": "RsFqz7fAHmnc"
      },
      "execution_count": null,
      "outputs": []
    },
    {
      "cell_type": "code",
      "source": [
        "from rdflib import Graph, Namespace"
      ],
      "metadata": {
        "id": "_Qeb9MMZHos0"
      },
      "execution_count": null,
      "outputs": []
    },
    {
      "cell_type": "code",
      "source": [
        "g = Graph()\n",
        "g.parse(\"https://raw.githubusercontent.com/validatingrdf/Tutorial/refs/heads/master/ISWC_2024/example.ttl\", format=\"turtle\")\n"
      ],
      "metadata": {
        "colab": {
          "base_uri": "https://localhost:8080/"
        },
        "id": "GMTEd3GGHThy",
        "outputId": "e901a142-76f4-405a-abaf-103be70a6bd9"
      },
      "execution_count": null,
      "outputs": [
        {
          "output_type": "execute_result",
          "data": {
            "text/plain": [
              "<Graph identifier=N594223df3f784e9985df235a04bbf78c (<class 'rdflib.graph.Graph'>)>"
            ]
          },
          "metadata": {},
          "execution_count": 15
        }
      ]
    },
    {
      "cell_type": "code",
      "source": [
        "ex = Namespace(\"http://example.org/\")"
      ],
      "metadata": {
        "id": "nv5dm880HrSE"
      },
      "execution_count": null,
      "outputs": []
    },
    {
      "cell_type": "code",
      "source": [
        "shex = \"\"\"\n",
        "prefix :       <http://example.org/>\n",
        "prefix xsd:    <http://www.w3.org/2001/XMLSchema#>\n",
        "prefix schema: <http://schema.org/>\n",
        "prefix rdfs: <http://www.w3.org/2000/01/rdf-schema#>\n",
        "\n",
        ":Researcher {\n",
        " rdfs:label  xsd:string  ;\n",
        " :birthPlace @:Place ;\n",
        " :birthDate  xsd:date  ;\n",
        " :employer   @:Organization\n",
        "}\n",
        "\n",
        ":Place {}\n",
        ":Organization {}\n",
        "\"\"\""
      ],
      "metadata": {
        "id": "4tFcyHyqH3tu"
      },
      "execution_count": null,
      "outputs": []
    },
    {
      "cell_type": "code",
      "source": [
        "results = ShExEvaluator().evaluate(g, shex, focus = ex.timbl, start = ex.Researcher)"
      ],
      "metadata": {
        "id": "pcVqemGjH0fk"
      },
      "execution_count": null,
      "outputs": []
    },
    {
      "cell_type": "code",
      "source": [
        "for r in results:\n",
        "    if r.result:\n",
        "        print(\"PASS\")\n",
        "    else:\n",
        "        print(f\"FAIL: {r.reason}\")\n"
      ],
      "metadata": {
        "colab": {
          "base_uri": "https://localhost:8080/"
        },
        "id": "EEtGFWOvILyr",
        "outputId": "611b4147-851a-485e-8771-f9028d50e211"
      },
      "execution_count": null,
      "outputs": [
        {
          "output_type": "stream",
          "name": "stdout",
          "text": [
            "PASS\n"
          ]
        }
      ]
    },
    {
      "cell_type": "markdown",
      "source": [
        "# SHACL"
      ],
      "metadata": {
        "id": "bvBBFbHAE_vU"
      }
    },
    {
      "cell_type": "markdown",
      "source": [
        " [PySHACL](https://github.com/RDFLib/pySHACL) is a Python library that can be used to validate RDF data using [SHACL](https://www.w3.org/TR/shacl/)."
      ],
      "metadata": {
        "id": "HXqWbioaKLSW"
      }
    },
    {
      "cell_type": "code",
      "source": [],
      "metadata": {
        "id": "xmY3J4gZ2Xjb"
      },
      "execution_count": null,
      "outputs": []
    },
    {
      "cell_type": "code",
      "source": [
        "!pip install pyshacl"
      ],
      "metadata": {
        "colab": {
          "base_uri": "https://localhost:8080/"
        },
        "id": "HLH-j1iyIOib",
        "outputId": "e8566991-8e3a-4875-e534-2646e6ef24a1"
      },
      "execution_count": null,
      "outputs": [
        {
          "output_type": "stream",
          "name": "stdout",
          "text": [
            "Collecting pyshacl\n",
            "  Downloading pyshacl-0.29.0-py3-none-any.whl.metadata (21 kB)\n",
            "Requirement already satisfied: importlib-metadata>6 in /usr/local/lib/python3.10/dist-packages (from pyshacl) (8.5.0)\n",
            "Collecting owlrl<8,>=7.1.2 (from pyshacl)\n",
            "  Downloading owlrl-7.1.2-py3-none-any.whl.metadata (3.1 kB)\n",
            "Requirement already satisfied: packaging>=21.3 in /usr/local/lib/python3.10/dist-packages (from pyshacl) (24.1)\n",
            "Requirement already satisfied: prettytable>=3.5.0 in /usr/local/lib/python3.10/dist-packages (from pyshacl) (3.11.0)\n",
            "Requirement already satisfied: rdflib<8.0,>=7.1.1 in /usr/local/lib/python3.10/dist-packages (from rdflib[html]<8.0,>=7.1.1->pyshacl) (7.1.1)\n",
            "Requirement already satisfied: zipp>=3.20 in /usr/local/lib/python3.10/dist-packages (from importlib-metadata>6->pyshacl) (3.20.2)\n",
            "Requirement already satisfied: wcwidth in /usr/local/lib/python3.10/dist-packages (from prettytable>=3.5.0->pyshacl) (0.2.13)\n",
            "Requirement already satisfied: isodate<1.0.0,>=0.7.2 in /usr/local/lib/python3.10/dist-packages (from rdflib<8.0,>=7.1.1->rdflib[html]<8.0,>=7.1.1->pyshacl) (0.7.2)\n",
            "Requirement already satisfied: pyparsing<4,>=2.1.0 in /usr/local/lib/python3.10/dist-packages (from rdflib<8.0,>=7.1.1->rdflib[html]<8.0,>=7.1.1->pyshacl) (3.2.0)\n",
            "Collecting html5rdf<2,>=1.2 (from rdflib[html]<8.0,>=7.1.1->pyshacl)\n",
            "  Downloading html5rdf-1.2.1-py2.py3-none-any.whl.metadata (7.5 kB)\n",
            "Downloading pyshacl-0.29.0-py3-none-any.whl (1.3 MB)\n",
            "\u001b[2K   \u001b[90m━━━━━━━━━━━━━━━━━━━━━━━━━━━━━━━━━━━━━━━━\u001b[0m \u001b[32m1.3/1.3 MB\u001b[0m \u001b[31m23.1 MB/s\u001b[0m eta \u001b[36m0:00:00\u001b[0m\n",
            "\u001b[?25hDownloading owlrl-7.1.2-py3-none-any.whl (51 kB)\n",
            "\u001b[2K   \u001b[90m━━━━━━━━━━━━━━━━━━━━━━━━━━━━━━━━━━━━━━━━\u001b[0m \u001b[32m51.7/51.7 kB\u001b[0m \u001b[31m3.3 MB/s\u001b[0m eta \u001b[36m0:00:00\u001b[0m\n",
            "\u001b[?25hDownloading html5rdf-1.2.1-py2.py3-none-any.whl (109 kB)\n",
            "\u001b[2K   \u001b[90m━━━━━━━━━━━━━━━━━━━━━━━━━━━━━━━━━━━━━━━━\u001b[0m \u001b[32m109.8/109.8 kB\u001b[0m \u001b[31m7.5 MB/s\u001b[0m eta \u001b[36m0:00:00\u001b[0m\n",
            "\u001b[?25hInstalling collected packages: html5rdf, owlrl, pyshacl\n",
            "Successfully installed html5rdf-1.2.1 owlrl-7.1.2 pyshacl-0.29.0\n"
          ]
        }
      ]
    },
    {
      "cell_type": "code",
      "source": [
        "from pyshacl import validate"
      ],
      "metadata": {
        "id": "BhOl37ElI3zF"
      },
      "execution_count": null,
      "outputs": []
    },
    {
      "cell_type": "code",
      "source": [
        "data = Graph()\n",
        "data.parse(\"https://raw.githubusercontent.com/validatingrdf/Tutorial/refs/heads/master/ISWC_2024/examples/shacl/example1.ttl\", format=\"turtle\")"
      ],
      "metadata": {
        "colab": {
          "base_uri": "https://localhost:8080/"
        },
        "id": "h4B7_jiDITct",
        "outputId": "3ae5cc3d-8a51-4823-9a0a-81f5dd65dcac"
      },
      "execution_count": null,
      "outputs": [
        {
          "output_type": "execute_result",
          "data": {
            "text/plain": [
              "<Graph identifier=N681b958b689c400387f465d0d39e7b58 (<class 'rdflib.graph.Graph'>)>"
            ]
          },
          "metadata": {},
          "execution_count": 29
        }
      ]
    },
    {
      "cell_type": "code",
      "source": [
        "shapes = Graph()\n",
        "shapes.parse(\"https://raw.githubusercontent.com/validatingrdf/Tutorial/refs/heads/master/ISWC_2024/examples/shacl/example1_shapes.ttl\", format=\"turtle\")"
      ],
      "metadata": {
        "colab": {
          "base_uri": "https://localhost:8080/"
        },
        "id": "bfXLikBhIpve",
        "outputId": "3576b73a-b71b-4727-b28a-13664ea3a1f7"
      },
      "execution_count": null,
      "outputs": [
        {
          "output_type": "execute_result",
          "data": {
            "text/plain": [
              "<Graph identifier=N9f1124ab68bb4ea0a154883fe974ec50 (<class 'rdflib.graph.Graph'>)>"
            ]
          },
          "metadata": {},
          "execution_count": 31
        }
      ]
    },
    {
      "cell_type": "code",
      "source": [
        "r = validate(data, shacl_graph = shapes)"
      ],
      "metadata": {
        "id": "6i4XHzgxIvPT"
      },
      "execution_count": null,
      "outputs": []
    },
    {
      "cell_type": "code",
      "source": [
        "conforms, results_graph, results_text = r\n",
        "print(f\"Conforms: {conforms}\")\n",
        "print(results_graph.serialize(format=\"turtle\"))\n"
      ],
      "metadata": {
        "colab": {
          "base_uri": "https://localhost:8080/"
        },
        "id": "yqmSDsEqJCEM",
        "outputId": "9b454ee9-149c-4ac6-e0d1-27db943d81cd"
      },
      "execution_count": null,
      "outputs": [
        {
          "output_type": "stream",
          "name": "stdout",
          "text": [
            "Conforms: False\n",
            "@prefix : <http://example.org/> .\n",
            "@prefix schema1: <http://schema.org/> .\n",
            "@prefix sh: <http://www.w3.org/ns/shacl#> .\n",
            "@prefix xsd: <http://www.w3.org/2001/XMLSchema#> .\n",
            "\n",
            "[] a sh:ValidationReport ;\n",
            "    sh:conforms false ;\n",
            "    sh:result [ a sh:ValidationResult ;\n",
            "            sh:focusNode :bob ;\n",
            "            sh:resultMessage \"Less than 1 values on :bob->schema1:name\" ;\n",
            "            sh:resultPath schema1:name ;\n",
            "            sh:resultSeverity sh:Violation ;\n",
            "            sh:sourceConstraintComponent sh:MinCountConstraintComponent ;\n",
            "            sh:sourceShape :hasName ],\n",
            "        [ a sh:ValidationResult ;\n",
            "            sh:focusNode :carol ;\n",
            "            sh:resultMessage \"Value is not of Node Kind sh:IRI\" ;\n",
            "            sh:resultPath schema1:email ;\n",
            "            sh:resultSeverity sh:Violation ;\n",
            "            sh:sourceConstraintComponent sh:NodeKindConstraintComponent ;\n",
            "            sh:sourceShape :hasEmail ;\n",
            "            sh:value \"carol@mail.org\" ] .\n",
            "\n",
            "\n"
          ]
        }
      ]
    }
  ]
}